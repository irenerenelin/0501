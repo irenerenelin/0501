{
 "cells": [
  {
   "cell_type": "code",
   "execution_count": 13,
   "metadata": {},
   "outputs": [
    {
     "name": "stdout",
     "output_type": "stream",
     "text": [
      "請輸入第1數：1\n",
      "請輸入第2數：2\n",
      "請輸入符號：-\n",
      "-1\n"
     ]
    }
   ],
   "source": [
    "def add(a,b):\n",
    "    print(a+b)\n",
    "def minus(a,b):\n",
    "    print(a-b)\n",
    "def multiple(a,b):\n",
    "    print(a*b)\n",
    "def division(a,b):\n",
    "    print(a/b)\n",
    "\n",
    "a = int (input(\"請輸入第1數：\"))\n",
    "b = int (input(\"請輸入第2數：\"))\n",
    "s = input(\"請輸入符號：\")\n",
    "\n",
    "def math(func,a,b):\n",
    "    if(s=='+'):\n",
    "        return add(a,b)\n",
    "    elif(s=='-'):\n",
    "        return minus(a,b)\n",
    "    elif(s=='*'):\n",
    "        return multiple(a,b)\n",
    "    elif(s=='/'):\n",
    "        return division(a,b)\n",
    "    else:\n",
    "        print(\"wrong\")\n",
    "\n",
    "if(s=='+'):\n",
    "    math(add,a,b)\n",
    "elif(s=='-'):\n",
    "    math(minus,a,b)\n",
    "elif(s=='*'):\n",
    "    math(multiple,a,b)\n",
    "elif(s=='/'):\n",
    "     math(division,a,b)"
   ]
  }
 ],
 "metadata": {
  "kernelspec": {
   "display_name": "Python 3",
   "language": "python",
   "name": "python3"
  },
  "language_info": {
   "codemirror_mode": {
    "name": "ipython",
    "version": 3
   },
   "file_extension": ".py",
   "mimetype": "text/x-python",
   "name": "python",
   "nbconvert_exporter": "python",
   "pygments_lexer": "ipython3",
   "version": "3.7.3"
  }
 },
 "nbformat": 4,
 "nbformat_minor": 2
}
